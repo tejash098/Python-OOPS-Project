{
 "cells": [
  {
   "cell_type": "markdown",
   "id": "1d3f61aa",
   "metadata": {},
   "source": [
    "# Recursion"
   ]
  },
  {
   "cell_type": "markdown",
   "id": "393d5456",
   "metadata": {},
   "source": [
    "## Easy"
   ]
  },
  {
   "cell_type": "markdown",
   "id": "c817f021",
   "metadata": {},
   "source": [
    "**Q:** Write a recursive function to calculate factorial of a number."
   ]
  },
  {
   "cell_type": "code",
   "execution_count": 13,
   "id": "3e7b2446",
   "metadata": {},
   "outputs": [
    {
     "name": "stdout",
     "output_type": "stream",
     "text": [
      "120\n"
     ]
    }
   ],
   "source": [
    "def fact(n):\n",
    "    if n in (0,1):\n",
    "        return 1\n",
    "    return n*fact(n-1)\n",
    "print(fact(5))"
   ]
  },
  {
   "cell_type": "markdown",
   "id": "986c852f",
   "metadata": {},
   "source": [
    "**Q:** Write a recursive function to compute the nth Fibonacci number."
   ]
  },
  {
   "cell_type": "code",
   "execution_count": null,
   "id": "ca0e381d",
   "metadata": {},
   "outputs": [
    {
     "name": "stdout",
     "output_type": "stream",
     "text": [
      "34\n"
     ]
    }
   ],
   "source": [
    "def fibonacci(n):\n",
    "    if n <= 0:\n",
    "        return \"Invalid input! n must be positive.\"\n",
    "    elif n == 1:\n",
    "        return 0\n",
    "    elif n == 2:\n",
    "        return 1\n",
    "    else:\n",
    "        return fibonacci(n-1) + fibonacci(n-2)\n",
    "\n",
    "print(fibonacci(10))\n"
   ]
  },
  {
   "cell_type": "markdown",
   "id": "d946404b",
   "metadata": {},
   "source": [
    "**Q:** Write a recursive function to calculate the sum of first N natural numbers."
   ]
  },
  {
   "cell_type": "code",
   "execution_count": 15,
   "id": "dc0c4524",
   "metadata": {},
   "outputs": [
    {
     "name": "stdout",
     "output_type": "stream",
     "text": [
      "15\n"
     ]
    }
   ],
   "source": [
    "def sum(n):\n",
    "    if n == 1:\n",
    "        return n\n",
    "    return n+sum(n-1)\n",
    "\n",
    "print(sum(5))"
   ]
  },
  {
   "cell_type": "markdown",
   "id": "1b22665c",
   "metadata": {},
   "source": [
    "**Q:** Write a recursive function to reverse a string."
   ]
  },
  {
   "cell_type": "code",
   "execution_count": null,
   "id": "0cb4e79a",
   "metadata": {},
   "outputs": [
    {
     "name": "stdout",
     "output_type": "stream",
     "text": [
      "olleH\n"
     ]
    }
   ],
   "source": [
    "def rev_string(s):\n",
    "    if len(s) == 1:\n",
    "        return s\n",
    "    return s[-1]+rev_string(s[:-1])\n",
    "print(rev_string('Hello'))\n"
   ]
  },
  {
   "cell_type": "markdown",
   "id": "c33b03de",
   "metadata": {},
   "source": [
    "**Q:** Write a recursive function to count digits in a number."
   ]
  },
  {
   "cell_type": "code",
   "execution_count": 30,
   "id": "adc8d158",
   "metadata": {},
   "outputs": [
    {
     "name": "stdout",
     "output_type": "stream",
     "text": [
      "4\n"
     ]
    }
   ],
   "source": [
    "def count_dig(n):\n",
    "    if n//10 == 0:\n",
    "        return 1\n",
    "    return 1+count_dig(n//10)\n",
    "\n",
    "print(count_dig(6651))"
   ]
  },
  {
   "cell_type": "markdown",
   "id": "8f0fbaff",
   "metadata": {},
   "source": [
    "## Medium"
   ]
  },
  {
   "cell_type": "markdown",
   "id": "38e418f9",
   "metadata": {},
   "source": [
    "**Q:** Write a recursive function to find the GCD of two numbers."
   ]
  },
  {
   "cell_type": "code",
   "execution_count": null,
   "id": "f7b2c063",
   "metadata": {},
   "outputs": [],
   "source": []
  },
  {
   "cell_type": "markdown",
   "id": "d0a59f08",
   "metadata": {},
   "source": [
    "**Q:** Write a recursive function to check if a string is palindrome."
   ]
  },
  {
   "cell_type": "code",
   "execution_count": null,
   "id": "d4d93b5c",
   "metadata": {},
   "outputs": [],
   "source": [
    "def is_palindrome(s):\n",
    "    "
   ]
  },
  {
   "cell_type": "markdown",
   "id": "159d5be7",
   "metadata": {},
   "source": [
    "**Q:** Write a recursive function to find the sum of elements in a list."
   ]
  },
  {
   "cell_type": "code",
   "execution_count": null,
   "id": "57ed9b66",
   "metadata": {},
   "outputs": [],
   "source": []
  },
  {
   "cell_type": "markdown",
   "id": "2fa22e6c",
   "metadata": {},
   "source": [
    "**Q:** Write a recursive function to compute power of a number (x^n)."
   ]
  },
  {
   "cell_type": "code",
   "execution_count": null,
   "id": "02f1b4f2",
   "metadata": {},
   "outputs": [],
   "source": []
  },
  {
   "cell_type": "markdown",
   "id": "89e2c795",
   "metadata": {},
   "source": [
    "**Q:** Write a recursive function to count vowels in a string."
   ]
  },
  {
   "cell_type": "code",
   "execution_count": null,
   "id": "9a900a87",
   "metadata": {},
   "outputs": [],
   "source": []
  },
  {
   "cell_type": "markdown",
   "id": "3b8541cb",
   "metadata": {},
   "source": [
    "## Hard"
   ]
  },
  {
   "cell_type": "markdown",
   "id": "7777cfd3",
   "metadata": {},
   "source": [
    "**Q:** Write a recursive function to generate all permutations of a string."
   ]
  },
  {
   "cell_type": "code",
   "execution_count": null,
   "id": "b632f9ab",
   "metadata": {},
   "outputs": [],
   "source": []
  },
  {
   "cell_type": "markdown",
   "id": "a897f076",
   "metadata": {},
   "source": [
    "**Q:** Write a recursive function to solve Tower of Hanoi for n disks."
   ]
  },
  {
   "cell_type": "code",
   "execution_count": null,
   "id": "4a751f1c",
   "metadata": {},
   "outputs": [],
   "source": []
  },
  {
   "cell_type": "markdown",
   "id": "d6a37e80",
   "metadata": {},
   "source": [
    "**Q:** Write a recursive function to perform binary search in a sorted list."
   ]
  },
  {
   "cell_type": "code",
   "execution_count": null,
   "id": "1047510d",
   "metadata": {},
   "outputs": [],
   "source": []
  },
  {
   "cell_type": "markdown",
   "id": "32fc898c",
   "metadata": {},
   "source": [
    "**Q:** Write a recursive function to find all subsets of a set."
   ]
  },
  {
   "cell_type": "code",
   "execution_count": null,
   "id": "e8458d97",
   "metadata": {},
   "outputs": [],
   "source": []
  },
  {
   "cell_type": "markdown",
   "id": "f5aec0c1",
   "metadata": {},
   "source": [
    "**Q:** Write a recursive function to flatten a nested list."
   ]
  },
  {
   "cell_type": "code",
   "execution_count": null,
   "id": "fb466ac6",
   "metadata": {},
   "outputs": [],
   "source": []
  },
  {
   "cell_type": "markdown",
   "id": "d20ddfac",
   "metadata": {},
   "source": [
    "# List Comprehensions & Generator Expressions"
   ]
  },
  {
   "cell_type": "markdown",
   "id": "d697b416",
   "metadata": {},
   "source": [
    "## Easy"
   ]
  },
  {
   "cell_type": "markdown",
   "id": "10a63bb6",
   "metadata": {},
   "source": [
    "**Q:** Create a list comprehension to generate squares of numbers from 1 to 10."
   ]
  },
  {
   "cell_type": "code",
   "execution_count": 32,
   "id": "12cf83ca",
   "metadata": {},
   "outputs": [
    {
     "name": "stdout",
     "output_type": "stream",
     "text": [
      "[1, 4, 9, 16, 25, 36, 49, 64, 81, 100]\n"
     ]
    }
   ],
   "source": [
    "print([i**2 for i in range(1 , 11)])"
   ]
  },
  {
   "cell_type": "markdown",
   "id": "554a2c19",
   "metadata": {},
   "source": [
    "**Q:** Create a list comprehension to get even numbers from 1 to 20."
   ]
  },
  {
   "cell_type": "code",
   "execution_count": 33,
   "id": "1927431d",
   "metadata": {},
   "outputs": [
    {
     "data": {
      "text/plain": [
       "[2, 4, 6, 8, 10, 12, 14, 16, 18, 20]"
      ]
     },
     "execution_count": 33,
     "metadata": {},
     "output_type": "execute_result"
    }
   ],
   "source": [
    "[i for i in range(1,21) if i % 2 == 0]"
   ]
  },
  {
   "cell_type": "markdown",
   "id": "08565a16",
   "metadata": {},
   "source": [
    "**Q:** Create a list comprehension to extract vowels from a string."
   ]
  },
  {
   "cell_type": "code",
   "execution_count": 34,
   "id": "ac364385",
   "metadata": {},
   "outputs": [
    {
     "data": {
      "text/plain": [
       "['o', 'o', 'e', 'i']"
      ]
     },
     "execution_count": 34,
     "metadata": {},
     "output_type": "execute_result"
    }
   ],
   "source": [
    "[i for i in 'oowmdenxski' if i in ('aeiouAEIOU')]"
   ]
  },
  {
   "cell_type": "markdown",
   "id": "2d8da8b9",
   "metadata": {},
   "source": [
    "**Q:** Create a list comprehension to convert list of strings to uppercase."
   ]
  },
  {
   "cell_type": "code",
   "execution_count": 39,
   "id": "bbeef617",
   "metadata": {},
   "outputs": [
    {
     "name": "stdout",
     "output_type": "stream",
     "text": [
      "['A', 'B', 'J', 'D']\n"
     ]
    }
   ],
   "source": [
    "print([i.capitalize() for i in 'abjd'])"
   ]
  },
  {
   "cell_type": "markdown",
   "id": "3af939bc",
   "metadata": {},
   "source": [
    "**Q:** Create a list comprehension to generate a list of first letters of words in a sentence."
   ]
  },
  {
   "cell_type": "code",
   "execution_count": 46,
   "id": "4a85ae7b",
   "metadata": {},
   "outputs": [
    {
     "data": {
      "text/plain": [
       "['H', 'I', 'A', 'H']"
      ]
     },
     "execution_count": 46,
     "metadata": {},
     "output_type": "execute_result"
    }
   ],
   "source": [
    "[i[0].upper() for i in 'hello i am here'.split()]"
   ]
  },
  {
   "cell_type": "markdown",
   "id": "a9c5add1",
   "metadata": {},
   "source": [
    "## Medium"
   ]
  },
  {
   "cell_type": "markdown",
   "id": "da470df8",
   "metadata": {},
   "source": [
    "**Q:** Use list comprehension to flatten a 2D list."
   ]
  },
  {
   "cell_type": "code",
   "execution_count": 47,
   "id": "954be79c",
   "metadata": {},
   "outputs": [
    {
     "name": "stdout",
     "output_type": "stream",
     "text": [
      "[1, 2, 3, 4, 5, 6, 7, 8]\n"
     ]
    }
   ],
   "source": [
    "nested_list = [[1, 2, 3], [4, 5], [6, 7, 8]]\n",
    "flattened_list = [item for sublist in nested_list for item in sublist]\n",
    "print(flattened_list)"
   ]
  },
  {
   "cell_type": "markdown",
   "id": "264f8b72",
   "metadata": {},
   "source": [
    "**Q:** Use generator expression to generate Fibonacci sequence up to n."
   ]
  },
  {
   "cell_type": "code",
   "execution_count": null,
   "id": "cee8f4cd",
   "metadata": {},
   "outputs": [],
   "source": [
    "n = 10\n",
    "[i for i in range(n+1) ]"
   ]
  },
  {
   "cell_type": "markdown",
   "id": "39921c6b",
   "metadata": {},
   "source": [
    "**Q:** Create a list comprehension that filters prime numbers from 1 to 50."
   ]
  },
  {
   "cell_type": "code",
   "execution_count": null,
   "id": "8da4b838",
   "metadata": {},
   "outputs": [],
   "source": []
  },
  {
   "cell_type": "markdown",
   "id": "2ac83c86",
   "metadata": {},
   "source": [
    "**Q:** Use list comprehension to generate tuples of (number, square)."
   ]
  },
  {
   "cell_type": "code",
   "execution_count": null,
   "id": "a907783f",
   "metadata": {},
   "outputs": [],
   "source": []
  },
  {
   "cell_type": "markdown",
   "id": "6f7231a7",
   "metadata": {},
   "source": [
    "**Q:** Create a list comprehension to remove duplicates from a list."
   ]
  },
  {
   "cell_type": "code",
   "execution_count": null,
   "id": "94c5ed78",
   "metadata": {},
   "outputs": [],
   "source": []
  },
  {
   "cell_type": "markdown",
   "id": "d94428d8",
   "metadata": {},
   "source": [
    "## Hard"
   ]
  },
  {
   "cell_type": "markdown",
   "id": "884b6589",
   "metadata": {},
   "source": [
    "**Q:** Use nested list comprehension to transpose a matrix."
   ]
  },
  {
   "cell_type": "code",
   "execution_count": null,
   "id": "76cc272b",
   "metadata": {},
   "outputs": [],
   "source": []
  },
  {
   "cell_type": "markdown",
   "id": "596e509c",
   "metadata": {},
   "source": [
    "**Q:** Use generator expression to generate an infinite sequence of odd numbers."
   ]
  },
  {
   "cell_type": "code",
   "execution_count": null,
   "id": "353a2265",
   "metadata": {},
   "outputs": [],
   "source": []
  },
  {
   "cell_type": "markdown",
   "id": "48e074f8",
   "metadata": {},
   "source": [
    "**Q:** Create a list comprehension to find common elements between two lists."
   ]
  },
  {
   "cell_type": "code",
   "execution_count": null,
   "id": "af3dbc55",
   "metadata": {},
   "outputs": [],
   "source": []
  },
  {
   "cell_type": "markdown",
   "id": "245a1beb",
   "metadata": {},
   "source": [
    "**Q:** Write a generator expression to yield permutations of a list."
   ]
  },
  {
   "cell_type": "code",
   "execution_count": null,
   "id": "f2acc3c5",
   "metadata": {},
   "outputs": [],
   "source": []
  },
  {
   "cell_type": "markdown",
   "id": "cc19a780",
   "metadata": {},
   "source": [
    "**Q:** Use list comprehension to implement matrix multiplication."
   ]
  },
  {
   "cell_type": "code",
   "execution_count": null,
   "id": "2f029741",
   "metadata": {},
   "outputs": [],
   "source": []
  },
  {
   "cell_type": "markdown",
   "id": "8ab58970",
   "metadata": {},
   "source": [
    "# Lambda Functions"
   ]
  },
  {
   "cell_type": "markdown",
   "id": "d675cb01",
   "metadata": {},
   "source": [
    "## Easy"
   ]
  },
  {
   "cell_type": "markdown",
   "id": "c91f224c",
   "metadata": {},
   "source": [
    "**Q:** Write a lambda function to add two numbers."
   ]
  },
  {
   "cell_type": "code",
   "execution_count": null,
   "id": "e94b0be6",
   "metadata": {},
   "outputs": [],
   "source": []
  },
  {
   "cell_type": "markdown",
   "id": "12ab0520",
   "metadata": {},
   "source": [
    "**Q:** Write a lambda function to find maximum of two numbers."
   ]
  },
  {
   "cell_type": "code",
   "execution_count": null,
   "id": "7a54796a",
   "metadata": {},
   "outputs": [],
   "source": []
  },
  {
   "cell_type": "markdown",
   "id": "0fea6cc0",
   "metadata": {},
   "source": [
    "**Q:** Write a lambda function to check if a number is even."
   ]
  },
  {
   "cell_type": "code",
   "execution_count": null,
   "id": "bb4ccadd",
   "metadata": {},
   "outputs": [],
   "source": []
  },
  {
   "cell_type": "markdown",
   "id": "f393876a",
   "metadata": {},
   "source": [
    "**Q:** Write a lambda function to compute square of a number."
   ]
  },
  {
   "cell_type": "code",
   "execution_count": null,
   "id": "5d614273",
   "metadata": {},
   "outputs": [],
   "source": []
  },
  {
   "cell_type": "markdown",
   "id": "2b7a7b36",
   "metadata": {},
   "source": [
    "**Q:** Write a lambda function to extract last character of a string."
   ]
  },
  {
   "cell_type": "code",
   "execution_count": null,
   "id": "5f170f6e",
   "metadata": {},
   "outputs": [],
   "source": []
  },
  {
   "cell_type": "markdown",
   "id": "10c14972",
   "metadata": {},
   "source": [
    "## Medium"
   ]
  },
  {
   "cell_type": "markdown",
   "id": "adb080bd",
   "metadata": {},
   "source": [
    "**Q:** Write a lambda function to sort a list of tuples by the second element."
   ]
  },
  {
   "cell_type": "code",
   "execution_count": null,
   "id": "da2689cd",
   "metadata": {},
   "outputs": [],
   "source": []
  },
  {
   "cell_type": "markdown",
   "id": "ee5699fe",
   "metadata": {},
   "source": [
    "**Q:** Write a lambda function to check if a string is palindrome."
   ]
  },
  {
   "cell_type": "code",
   "execution_count": null,
   "id": "86cc6dac",
   "metadata": {},
   "outputs": [],
   "source": []
  },
  {
   "cell_type": "markdown",
   "id": "306ebf8e",
   "metadata": {},
   "source": [
    "**Q:** Write a lambda function to filter numbers divisible by 3 from a list."
   ]
  },
  {
   "cell_type": "code",
   "execution_count": null,
   "id": "b51b4496",
   "metadata": {},
   "outputs": [],
   "source": []
  },
  {
   "cell_type": "markdown",
   "id": "4a9fe7f0",
   "metadata": {},
   "source": [
    "**Q:** Write a lambda function to compute cube of each element in a list."
   ]
  },
  {
   "cell_type": "code",
   "execution_count": null,
   "id": "88338d15",
   "metadata": {},
   "outputs": [],
   "source": []
  },
  {
   "cell_type": "markdown",
   "id": "bc621995",
   "metadata": {},
   "source": [
    "**Q:** Write a lambda function to sort dictionary by values."
   ]
  },
  {
   "cell_type": "code",
   "execution_count": null,
   "id": "7ffb4c06",
   "metadata": {},
   "outputs": [],
   "source": []
  },
  {
   "cell_type": "markdown",
   "id": "06399db4",
   "metadata": {},
   "source": [
    "## Hard"
   ]
  },
  {
   "cell_type": "markdown",
   "id": "d8fe2c36",
   "metadata": {},
   "source": [
    "**Q:** Use lambda to implement a function that returns nth Fibonacci number."
   ]
  },
  {
   "cell_type": "code",
   "execution_count": null,
   "id": "a8c9cf67",
   "metadata": {},
   "outputs": [],
   "source": []
  },
  {
   "cell_type": "markdown",
   "id": "73dfdd28",
   "metadata": {},
   "source": [
    "**Q:** Use lambda inside map to convert a list of temperatures from Celsius to Fahrenheit."
   ]
  },
  {
   "cell_type": "code",
   "execution_count": null,
   "id": "8235d463",
   "metadata": {},
   "outputs": [],
   "source": []
  },
  {
   "cell_type": "markdown",
   "id": "f140ae53",
   "metadata": {},
   "source": [
    "**Q:** Use lambda inside reduce to find the product of numbers in a list."
   ]
  },
  {
   "cell_type": "code",
   "execution_count": null,
   "id": "e8932eca",
   "metadata": {},
   "outputs": [],
   "source": []
  },
  {
   "cell_type": "markdown",
   "id": "962388d8",
   "metadata": {},
   "source": [
    "**Q:** Use lambda to sort a list of dictionaries by a nested key."
   ]
  },
  {
   "cell_type": "code",
   "execution_count": null,
   "id": "bd7db687",
   "metadata": {},
   "outputs": [],
   "source": []
  },
  {
   "cell_type": "markdown",
   "id": "2a2e620c",
   "metadata": {},
   "source": [
    "**Q:** Use lambda to implement a function composition mechanism."
   ]
  },
  {
   "cell_type": "code",
   "execution_count": null,
   "id": "97f7d5e9",
   "metadata": {},
   "outputs": [],
   "source": []
  },
  {
   "cell_type": "markdown",
   "id": "9764fca4",
   "metadata": {},
   "source": [
    "# Map, Filter, Reduce"
   ]
  },
  {
   "cell_type": "markdown",
   "id": "10f64f89",
   "metadata": {},
   "source": [
    "## Easy"
   ]
  },
  {
   "cell_type": "markdown",
   "id": "6a47d417",
   "metadata": {},
   "source": [
    "**Q:** Use map to square each number in a list."
   ]
  },
  {
   "cell_type": "code",
   "execution_count": null,
   "id": "79850b27",
   "metadata": {},
   "outputs": [],
   "source": []
  },
  {
   "cell_type": "markdown",
   "id": "0b7b7813",
   "metadata": {},
   "source": [
    "**Q:** Use filter to extract even numbers from a list."
   ]
  },
  {
   "cell_type": "code",
   "execution_count": null,
   "id": "b4fb2866",
   "metadata": {},
   "outputs": [],
   "source": []
  },
  {
   "cell_type": "markdown",
   "id": "fec0df9a",
   "metadata": {},
   "source": [
    "**Q:** Use map to convert a list of strings to uppercase."
   ]
  },
  {
   "cell_type": "code",
   "execution_count": null,
   "id": "07ab64fd",
   "metadata": {},
   "outputs": [],
   "source": []
  },
  {
   "cell_type": "markdown",
   "id": "e3280d4e",
   "metadata": {},
   "source": [
    "**Q:** Use reduce to compute sum of list elements."
   ]
  },
  {
   "cell_type": "code",
   "execution_count": null,
   "id": "06508358",
   "metadata": {},
   "outputs": [],
   "source": []
  },
  {
   "cell_type": "markdown",
   "id": "214dff33",
   "metadata": {},
   "source": [
    "**Q:** Use filter to extract strings with length > 3."
   ]
  },
  {
   "cell_type": "code",
   "execution_count": null,
   "id": "ffa7136f",
   "metadata": {},
   "outputs": [],
   "source": []
  },
  {
   "cell_type": "markdown",
   "id": "e405ae03",
   "metadata": {},
   "source": [
    "## Medium"
   ]
  },
  {
   "cell_type": "markdown",
   "id": "f2940b41",
   "metadata": {},
   "source": [
    "**Q:** Use map and filter to get cubes of even numbers from 1 to 20."
   ]
  },
  {
   "cell_type": "code",
   "execution_count": null,
   "id": "b4db9edb",
   "metadata": {},
   "outputs": [],
   "source": []
  },
  {
   "cell_type": "markdown",
   "id": "db110a5a",
   "metadata": {},
   "source": [
    "**Q:** Use reduce to find maximum element in a list."
   ]
  },
  {
   "cell_type": "code",
   "execution_count": null,
   "id": "d571bc8c",
   "metadata": {},
   "outputs": [],
   "source": []
  },
  {
   "cell_type": "markdown",
   "id": "d8ad4bba",
   "metadata": {},
   "source": [
    "**Q:** Use map to add corresponding elements of two lists."
   ]
  },
  {
   "cell_type": "code",
   "execution_count": null,
   "id": "6d51ce71",
   "metadata": {},
   "outputs": [],
   "source": []
  },
  {
   "cell_type": "markdown",
   "id": "beb92c07",
   "metadata": {},
   "source": [
    "**Q:** Use filter to extract prime numbers from 1 to 50."
   ]
  },
  {
   "cell_type": "code",
   "execution_count": null,
   "id": "f59cd4ee",
   "metadata": {},
   "outputs": [],
   "source": []
  },
  {
   "cell_type": "markdown",
   "id": "4c881654",
   "metadata": {},
   "source": [
    "**Q:** Use reduce to compute factorial of a number."
   ]
  },
  {
   "cell_type": "code",
   "execution_count": null,
   "id": "ae3d7d73",
   "metadata": {},
   "outputs": [],
   "source": []
  },
  {
   "cell_type": "markdown",
   "id": "1af26556",
   "metadata": {},
   "source": [
    "## Hard"
   ]
  },
  {
   "cell_type": "markdown",
   "id": "65fd13fd",
   "metadata": {},
   "source": [
    "**Q:** Use map and reduce to compute dot product of two vectors."
   ]
  },
  {
   "cell_type": "code",
   "execution_count": null,
   "id": "ae45e67c",
   "metadata": {},
   "outputs": [],
   "source": []
  },
  {
   "cell_type": "markdown",
   "id": "4b2f2f4c",
   "metadata": {},
   "source": [
    "**Q:** Use reduce to concatenate list of strings into one string."
   ]
  },
  {
   "cell_type": "code",
   "execution_count": null,
   "id": "6c81de1e",
   "metadata": {},
   "outputs": [],
   "source": []
  },
  {
   "cell_type": "markdown",
   "id": "6b3fc39b",
   "metadata": {},
   "source": [
    "**Q:** Use filter to get palindromic words from a list of strings."
   ]
  },
  {
   "cell_type": "code",
   "execution_count": null,
   "id": "3a44cd6c",
   "metadata": {},
   "outputs": [],
   "source": []
  },
  {
   "cell_type": "markdown",
   "id": "dff7be4b",
   "metadata": {},
   "source": [
    "**Q:** Use map and reduce to evaluate polynomial for a given x."
   ]
  },
  {
   "cell_type": "code",
   "execution_count": null,
   "id": "87508db0",
   "metadata": {},
   "outputs": [],
   "source": []
  },
  {
   "cell_type": "markdown",
   "id": "5c00df43",
   "metadata": {},
   "source": [
    "**Q:** Use reduce to implement GCD of a list of numbers."
   ]
  },
  {
   "cell_type": "code",
   "execution_count": null,
   "id": "1f0bc732",
   "metadata": {},
   "outputs": [],
   "source": []
  },
  {
   "cell_type": "markdown",
   "id": "66eb75df",
   "metadata": {},
   "source": [
    "# File Handling (txt, csv, json)"
   ]
  },
  {
   "cell_type": "markdown",
   "id": "cb6d8df1",
   "metadata": {},
   "source": [
    "## Easy"
   ]
  },
  {
   "cell_type": "markdown",
   "id": "6c501e91",
   "metadata": {},
   "source": [
    "**Q:** Write a program to create a text file and write 'Hello, Python!' into it."
   ]
  },
  {
   "cell_type": "code",
   "execution_count": null,
   "id": "28881f17",
   "metadata": {},
   "outputs": [],
   "source": []
  },
  {
   "cell_type": "markdown",
   "id": "a1a5b8b9",
   "metadata": {},
   "source": [
    "**Q:** Write a program to read contents of a text file and print it."
   ]
  },
  {
   "cell_type": "code",
   "execution_count": null,
   "id": "cdf0951e",
   "metadata": {},
   "outputs": [],
   "source": []
  },
  {
   "cell_type": "markdown",
   "id": "e44e3604",
   "metadata": {},
   "source": [
    "**Q:** Write a program to append a new line to an existing text file."
   ]
  },
  {
   "cell_type": "code",
   "execution_count": null,
   "id": "34d7ad17",
   "metadata": {},
   "outputs": [],
   "source": []
  },
  {
   "cell_type": "markdown",
   "id": "b6842e58",
   "metadata": {},
   "source": [
    "**Q:** Write a program to count number of words in a text file."
   ]
  },
  {
   "cell_type": "code",
   "execution_count": null,
   "id": "d3db4258",
   "metadata": {},
   "outputs": [],
   "source": []
  },
  {
   "cell_type": "markdown",
   "id": "0c0d75f6",
   "metadata": {},
   "source": [
    "**Q:** Write a program to write a list of strings into a text file."
   ]
  },
  {
   "cell_type": "code",
   "execution_count": null,
   "id": "8b50a993",
   "metadata": {},
   "outputs": [],
   "source": []
  },
  {
   "cell_type": "markdown",
   "id": "635578a6",
   "metadata": {},
   "source": [
    "## Medium"
   ]
  },
  {
   "cell_type": "markdown",
   "id": "ec71c0c5",
   "metadata": {},
   "source": [
    "**Q:** Write a program to read a CSV file and print its contents."
   ]
  },
  {
   "cell_type": "code",
   "execution_count": null,
   "id": "c5da3882",
   "metadata": {},
   "outputs": [],
   "source": []
  },
  {
   "cell_type": "markdown",
   "id": "ba2a798c",
   "metadata": {},
   "source": [
    "**Q:** Write a program to write a dictionary into a JSON file."
   ]
  },
  {
   "cell_type": "code",
   "execution_count": null,
   "id": "937ba4b8",
   "metadata": {},
   "outputs": [],
   "source": []
  },
  {
   "cell_type": "markdown",
   "id": "b32ea74c",
   "metadata": {},
   "source": [
    "**Q:** Write a program to read a JSON file and print its keys."
   ]
  },
  {
   "cell_type": "code",
   "execution_count": null,
   "id": "dffc11eb",
   "metadata": {},
   "outputs": [],
   "source": []
  },
  {
   "cell_type": "markdown",
   "id": "d69bc81d",
   "metadata": {},
   "source": [
    "**Q:** Write a program to count number of lines in a text file."
   ]
  },
  {
   "cell_type": "code",
   "execution_count": null,
   "id": "4ba20526",
   "metadata": {},
   "outputs": [],
   "source": []
  },
  {
   "cell_type": "markdown",
   "id": "508724a8",
   "metadata": {},
   "source": [
    "**Q:** Write a program to copy contents of one text file to another."
   ]
  },
  {
   "cell_type": "code",
   "execution_count": null,
   "id": "a7a95d96",
   "metadata": {},
   "outputs": [],
   "source": []
  },
  {
   "cell_type": "markdown",
   "id": "ac1a2e04",
   "metadata": {},
   "source": [
    "## Hard"
   ]
  },
  {
   "cell_type": "markdown",
   "id": "c7961089",
   "metadata": {},
   "source": [
    "**Q:** Write a program to merge contents of multiple text files into one."
   ]
  },
  {
   "cell_type": "code",
   "execution_count": null,
   "id": "e33084a9",
   "metadata": {},
   "outputs": [],
   "source": []
  },
  {
   "cell_type": "markdown",
   "id": "16ae6209",
   "metadata": {},
   "source": [
    "**Q:** Write a program to read a CSV file and convert it into JSON format."
   ]
  },
  {
   "cell_type": "code",
   "execution_count": null,
   "id": "3ae6e5e8",
   "metadata": {},
   "outputs": [],
   "source": []
  },
  {
   "cell_type": "markdown",
   "id": "55295d03",
   "metadata": {},
   "source": [
    "**Q:** Write a program to parse JSON data and print it in tabular format."
   ]
  },
  {
   "cell_type": "code",
   "execution_count": null,
   "id": "f4ff4d76",
   "metadata": {},
   "outputs": [],
   "source": []
  },
  {
   "cell_type": "markdown",
   "id": "be608e78",
   "metadata": {},
   "source": [
    "**Q:** Write a program to search for a word in a text file and print line numbers where it appears."
   ]
  },
  {
   "cell_type": "code",
   "execution_count": null,
   "id": "2a90aac6",
   "metadata": {},
   "outputs": [],
   "source": []
  },
  {
   "cell_type": "markdown",
   "id": "09670ffa",
   "metadata": {},
   "source": [
    "**Q:** Write a program to read a CSV file and compute average of numeric columns."
   ]
  },
  {
   "cell_type": "code",
   "execution_count": null,
   "id": "440fcb14",
   "metadata": {},
   "outputs": [],
   "source": []
  }
 ],
 "metadata": {
  "kernelspec": {
   "display_name": "Python 3",
   "language": "python",
   "name": "python3"
  },
  "language_info": {
   "codemirror_mode": {
    "name": "ipython",
    "version": 3
   },
   "file_extension": ".py",
   "mimetype": "text/x-python",
   "name": "python",
   "nbconvert_exporter": "python",
   "pygments_lexer": "ipython3",
   "version": "3.11.1"
  }
 },
 "nbformat": 4,
 "nbformat_minor": 5
}
