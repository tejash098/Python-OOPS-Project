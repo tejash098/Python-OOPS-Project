{
 "cells": [
  {
   "cell_type": "markdown",
   "id": "484d66c9",
   "metadata": {},
   "source": [
    "### 1. Employee Salary Filter: You are given a list of employee details (name, age, salary). Write a Python program to filter employees with salary above ₹50,000 and sort them by age."
   ]
  },
  {
   "cell_type": "code",
   "execution_count": null,
   "id": "eb72a90c",
   "metadata": {},
   "outputs": [],
   "source": []
  },
  {
   "cell_type": "markdown",
   "id": "3343887e",
   "metadata": {},
   "source": [
    "### 2. Find Duplicate Emails in a List: You are given a list of customer emails. Some customers registered twice. Write a Python program to find duplicates."
   ]
  },
  {
   "cell_type": "code",
   "execution_count": null,
   "id": "4d74dc39",
   "metadata": {},
   "outputs": [],
   "source": []
  },
  {
   "cell_type": "markdown",
   "id": "d6809428",
   "metadata": {},
   "source": [
    "### 3. Validate Password Strength: Write a function to check if a password is strong (at least 8 characters, contains uppercase, lowercase, number, and symbol)."
   ]
  },
  {
   "cell_type": "code",
   "execution_count": null,
   "id": "93e15f04",
   "metadata": {},
   "outputs": [],
   "source": []
  },
  {
   "cell_type": "markdown",
   "id": "d75ad4c8",
   "metadata": {},
   "source": [
    "### 4. Reverse Words in a Sentence: Input a sentence and reverse the order of words."
   ]
  },
  {
   "cell_type": "code",
   "execution_count": null,
   "id": "afd593bd",
   "metadata": {},
   "outputs": [],
   "source": []
  },
  {
   "cell_type": "markdown",
   "id": "ef92e363",
   "metadata": {},
   "source": [
    "### 5. Count Word Frequency in a File: Read a `.txt` file and count how many times each word appears."
   ]
  },
  {
   "cell_type": "code",
   "execution_count": null,
   "id": "f8f91a04",
   "metadata": {},
   "outputs": [],
   "source": []
  },
  {
   "cell_type": "markdown",
   "id": "a29365d2",
   "metadata": {},
   "source": [
    "### 6. Banking System Simulation: Create a class `BankAccount` with methods: deposit(), withdraw(), and check_balance(). Restrict withdrawal if balance < amount."
   ]
  },
  {
   "cell_type": "code",
   "execution_count": null,
   "id": "d6ec0365",
   "metadata": {},
   "outputs": [],
   "source": []
  },
  {
   "cell_type": "markdown",
   "id": "279ee895",
   "metadata": {},
   "source": [
    "### 7. Log File Analysis: Given a log file, count how many times each IP address appears."
   ]
  },
  {
   "cell_type": "code",
   "execution_count": null,
   "id": "11ba424b",
   "metadata": {},
   "outputs": [],
   "source": []
  },
  {
   "cell_type": "markdown",
   "id": "1fb176e9",
   "metadata": {},
   "source": [
    "### 8. API Data Fetch: Fetch data from a public API and print user names who have completed tasks."
   ]
  },
  {
   "cell_type": "code",
   "execution_count": null,
   "id": "278344ba",
   "metadata": {},
   "outputs": [],
   "source": []
  },
  {
   "cell_type": "markdown",
   "id": "be6dc30f",
   "metadata": {},
   "source": [
    "### 9. CSV File Processing: Read a CSV file of products (name, price, quantity) and find total stock value (price × quantity)."
   ]
  },
  {
   "cell_type": "code",
   "execution_count": null,
   "id": "3b5d911b",
   "metadata": {},
   "outputs": [],
   "source": []
  },
  {
   "cell_type": "markdown",
   "id": "a8b5368f",
   "metadata": {},
   "source": [
    "### 10. Student Grade System: Write a program to calculate grades based on marks and store results in a JSON file."
   ]
  },
  {
   "cell_type": "code",
   "execution_count": null,
   "id": "610e3892",
   "metadata": {},
   "outputs": [],
   "source": []
  },
  {
   "cell_type": "markdown",
   "id": "1168c4ce",
   "metadata": {},
   "source": [
    "### 11. E-commerce Order Summary: Given a list of orders, find total revenue from delivered orders and average order value."
   ]
  },
  {
   "cell_type": "code",
   "execution_count": null,
   "id": "51b715e8",
   "metadata": {},
   "outputs": [],
   "source": []
  },
  {
   "cell_type": "markdown",
   "id": "8b078f0c",
   "metadata": {},
   "source": [
    "### 12. Hospital Appointment System (OOP): Create classes for Doctor, Patient, and Appointment with booking and cancellation features."
   ]
  },
  {
   "cell_type": "code",
   "execution_count": null,
   "id": "8dba109f",
   "metadata": {},
   "outputs": [],
   "source": []
  },
  {
   "cell_type": "markdown",
   "id": "ef0b78f6",
   "metadata": {},
   "source": [
    "### 13. Detect Palindromic Substrings: Write a function that finds all palindromic substrings in a string efficiently."
   ]
  },
  {
   "cell_type": "code",
   "execution_count": null,
   "id": "13712bb4",
   "metadata": {},
   "outputs": [],
   "source": []
  },
  {
   "cell_type": "markdown",
   "id": "32667619",
   "metadata": {},
   "source": [
    "### 14. Web Scraping Scenario: Scrape all book titles and prices from a website using requests + BeautifulSoup."
   ]
  },
  {
   "cell_type": "code",
   "execution_count": null,
   "id": "3859c73c",
   "metadata": {},
   "outputs": [],
   "source": []
  },
  {
   "cell_type": "markdown",
   "id": "4c09a29a",
   "metadata": {},
   "source": [
    "### 15. File Synchronization System: Compare two directories and list files that are missing or modified."
   ]
  },
  {
   "cell_type": "code",
   "execution_count": null,
   "id": "789d73ae",
   "metadata": {},
   "outputs": [],
   "source": []
  },
  {
   "cell_type": "markdown",
   "id": "dd64c59f",
   "metadata": {},
   "source": [
    "### 16. JSON Merge Scenario: Merge two JSON files on `user_id` to produce a combined report."
   ]
  },
  {
   "cell_type": "code",
   "execution_count": null,
   "id": "98697fe1",
   "metadata": {},
   "outputs": [],
   "source": []
  },
  {
   "cell_type": "markdown",
   "id": "4ce19539",
   "metadata": {},
   "source": [
    "### 17. Real-time Stock Tracker (API): Use a public stock API to track stock prices and alert if below threshold."
   ]
  },
  {
   "cell_type": "code",
   "execution_count": null,
   "id": "06e92c9c",
   "metadata": {},
   "outputs": [],
   "source": []
  },
  {
   "cell_type": "markdown",
   "id": "e59ac159",
   "metadata": {},
   "source": [
    "### 18. Multithreading Scenario: Download 5 files simultaneously using Python threads."
   ]
  },
  {
   "cell_type": "code",
   "execution_count": null,
   "id": "8dd52b84",
   "metadata": {},
   "outputs": [],
   "source": []
  },
  {
   "cell_type": "markdown",
   "id": "d63d94fb",
   "metadata": {},
   "source": [
    "### 19. Data Deduplication: Remove duplicates efficiently from a large CSV without loading all data into memory."
   ]
  },
  {
   "cell_type": "code",
   "execution_count": null,
   "id": "40ee393a",
   "metadata": {},
   "outputs": [],
   "source": []
  },
  {
   "cell_type": "markdown",
   "id": "33800051",
   "metadata": {},
   "source": [
    "### 20. Simple Chat Application: Using socket programming, design a basic client-server chat system that handles multiple clients."
   ]
  },
  {
   "cell_type": "code",
   "execution_count": null,
   "id": "9ed86165",
   "metadata": {},
   "outputs": [],
   "source": []
  }
 ],
 "metadata": {
  "language_info": {
   "name": "python"
  }
 },
 "nbformat": 4,
 "nbformat_minor": 5
}
